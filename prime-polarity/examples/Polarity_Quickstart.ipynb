{
  "cells": [
    {
      "cell_type": "markdown",
      "metadata": {},
      "source": [
        "# Polarity quickstart\n",
        "Compute PI for default transforms on a short range.\n"
      ]
    },
    {
      "cell_type": "code",
      "metadata": {},
      "source": [
        "from prime_polarity.generators import set_precision\n",
        "from prime_polarity.cli import score_range\n",
        "ranges, table = score_range(100000, 120000, windows=3, window_size=5000, use_zo=False, mods=[4,5,8,12], dps=50)\n",
        "ranges, table[:3]"
      ],
      "execution_count": null,
      "outputs": []
    }
  ],
  "metadata": {
    "kernelspec": {
      "display_name": "Python 3",
      "language": "python",
      "name": "python3"
    },
    "language_info": {
      "name": "python",
      "version": "3.x"
    }
  },
  "nbformat": 4,
  "nbformat_minor": 5
}